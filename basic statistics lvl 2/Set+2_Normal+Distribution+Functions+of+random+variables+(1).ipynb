{
 "cells": [
  {
   "cell_type": "code",
   "execution_count": 1,
   "id": "3673a90e",
   "metadata": {},
   "outputs": [],
   "source": [
    "import pandas as pd\n",
    "import numpy as np\n",
    "from scipy import stats"
   ]
  },
  {
   "cell_type": "code",
   "execution_count": 14,
   "id": "381f8a5a",
   "metadata": {},
   "outputs": [
    {
     "data": {
      "text/plain": [
       "0.26598552904870054"
      ]
     },
     "execution_count": 14,
     "metadata": {},
     "output_type": "execute_result"
    }
   ],
   "source": [
    "# Pr(X<50)\n",
    "1-stats.norm.cdf(50,loc = 45,scale = 8)"
   ]
  },
  {
   "cell_type": "code",
   "execution_count": 3,
   "id": "1bdbecfb",
   "metadata": {},
   "outputs": [
    {
     "data": {
      "text/plain": [
       "(48.48341392902199, 151.516586070978)"
      ]
     },
     "execution_count": 3,
     "metadata": {},
     "output_type": "execute_result"
    }
   ],
   "source": [
    "stats.norm.interval(0.99,loc= 100,scale= 20)\n"
   ]
  },
  {
   "cell_type": "code",
   "execution_count": 4,
   "id": "0e0251eb",
   "metadata": {},
   "outputs": [
    {
     "data": {
      "text/plain": [
       "(2.2001800772997306, 21.79981992270027)"
      ]
     },
     "execution_count": 4,
     "metadata": {},
     "output_type": "execute_result"
    }
   ],
   "source": [
    "ci = stats.norm.interval(0.95,12,5)\n",
    "ci"
   ]
  },
  {
   "cell_type": "code",
   "execution_count": 8,
   "id": "7afe0138",
   "metadata": {},
   "outputs": [
    {
     "data": {
      "text/plain": [
       "array([ 99.01, 980.99])"
      ]
     },
     "execution_count": 8,
     "metadata": {},
     "output_type": "execute_result"
    }
   ],
   "source": [
    "ci_in_rupee =np.round((2.2001800772997306*45,21.79981992270027*45),2)\n",
    "ci_in_rupee"
   ]
  },
  {
   "cell_type": "code",
   "execution_count": 9,
   "id": "ce14790a",
   "metadata": {},
   "outputs": [
    {
     "data": {
      "text/plain": [
       "3.7757318652426353"
      ]
     },
     "execution_count": 9,
     "metadata": {},
     "output_type": "execute_result"
    }
   ],
   "source": [
    "stats.norm.ppf(.05,12,5)"
   ]
  },
  {
   "cell_type": "code",
   "execution_count": 10,
   "id": "ce973086",
   "metadata": {},
   "outputs": [
    {
     "data": {
      "text/plain": [
       "169.91"
      ]
     },
     "execution_count": 10,
     "metadata": {},
     "output_type": "execute_result"
    }
   ],
   "source": [
    "np.round(3.7757318652426353*45,2)"
   ]
  },
  {
   "cell_type": "markdown",
   "id": "0c07bba4",
   "metadata": {},
   "source": [
    "#### B. The 5 persentage of proffit is 169.91 million rupees"
   ]
  },
  {
   "cell_type": "code",
   "execution_count": 11,
   "id": "e4b23ce7",
   "metadata": {},
   "outputs": [
    {
     "data": {
      "text/plain": [
       "0.0477903522728147"
      ]
     },
     "execution_count": 11,
     "metadata": {},
     "output_type": "execute_result"
    }
   ],
   "source": [
    "p1 = stats.norm.cdf(0,5,3)\n",
    "p1"
   ]
  },
  {
   "cell_type": "code",
   "execution_count": 12,
   "id": "0bbf6308",
   "metadata": {},
   "outputs": [
    {
     "data": {
      "text/plain": [
       "0.040059156863817086"
      ]
     },
     "execution_count": 12,
     "metadata": {},
     "output_type": "execute_result"
    }
   ],
   "source": [
    "p2 = stats.norm.cdf(0,7,4)\n",
    "p2"
   ]
  },
  {
   "cell_type": "markdown",
   "id": "cbc73259",
   "metadata": {},
   "source": [
    "#### C. From p1 and p2, it is clear that first division has larger probability of making a loss"
   ]
  },
  {
   "cell_type": "code",
   "execution_count": null,
   "id": "2fd8daba",
   "metadata": {},
   "outputs": [],
   "source": []
  },
  {
   "cell_type": "code",
   "execution_count": null,
   "id": "8642c68f",
   "metadata": {},
   "outputs": [],
   "source": []
  }
 ],
 "metadata": {
  "kernelspec": {
   "display_name": "Python 3 (ipykernel)",
   "language": "python",
   "name": "python3"
  },
  "language_info": {
   "codemirror_mode": {
    "name": "ipython",
    "version": 3
   },
   "file_extension": ".py",
   "mimetype": "text/x-python",
   "name": "python",
   "nbconvert_exporter": "python",
   "pygments_lexer": "ipython3",
   "version": "3.9.7"
  }
 },
 "nbformat": 4,
 "nbformat_minor": 5
}
