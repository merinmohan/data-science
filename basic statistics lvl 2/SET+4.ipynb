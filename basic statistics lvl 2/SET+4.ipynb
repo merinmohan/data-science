{
 "cells": [
  {
   "cell_type": "code",
   "execution_count": 1,
   "id": "ad0e9f3c",
   "metadata": {},
   "outputs": [],
   "source": [
    "import numpy as np\n",
    "from scipy import stats\n",
    "\n"
   ]
  },
  {
   "cell_type": "markdown",
   "id": "a83f1df2",
   "metadata": {},
   "source": [
    "### Q3"
   ]
  },
  {
   "cell_type": "code",
   "execution_count": 2,
   "id": "ba69a2ae",
   "metadata": {},
   "outputs": [],
   "source": [
    "p_45 = stats.norm.cdf(45,loc = 50, scale = 4)\n",
    "p_55 = stats.norm.cdf(55,loc = 50,scale= 4)\n",
    "p = p_55-p_45"
   ]
  },
  {
   "cell_type": "code",
   "execution_count": 3,
   "id": "0ec49544",
   "metadata": {},
   "outputs": [
    {
     "data": {
      "text/plain": [
       "0.2113"
      ]
     },
     "execution_count": 3,
     "metadata": {},
     "output_type": "execute_result"
    }
   ],
   "source": [
    "# Probability of there will be an investigation\n",
    "np.round(1-p, 4)"
   ]
  },
  {
   "cell_type": "code",
   "execution_count": null,
   "id": "c650f4b3",
   "metadata": {},
   "outputs": [],
   "source": []
  }
 ],
 "metadata": {
  "kernelspec": {
   "display_name": "Python 3 (ipykernel)",
   "language": "python",
   "name": "python3"
  },
  "language_info": {
   "codemirror_mode": {
    "name": "ipython",
    "version": 3
   },
   "file_extension": ".py",
   "mimetype": "text/x-python",
   "name": "python",
   "nbconvert_exporter": "python",
   "pygments_lexer": "ipython3",
   "version": "3.9.7"
  }
 },
 "nbformat": 4,
 "nbformat_minor": 5
}
