{
 "cells": [
  {
   "cell_type": "code",
   "execution_count": 1,
   "id": "90db2e79",
   "metadata": {},
   "outputs": [],
   "source": [
    "import pandas as pd\n",
    "import numpy as np\n",
    "import matplotlib.pyplot as plt\n",
    "import seaborn as sns\n",
    "from sklearn.metrics import mean_squared_error\n",
    "from statsmodels.tsa.stattools import adfuller\n",
    "from statsmodels.tsa.holtwinters import ExponentialSmoothing\n",
    "import statsmodels.graphics.tsaplots as sgt\n",
    "from statsmodels.tsa.arima_model import ARMA\n",
    "from statsmodels.tsa.arima_model import ARIMA\n",
    "from statsmodels.tsa.statespace.tools import diff\n",
    "from scipy.stats.distributions import chi2"
   ]
  },
  {
   "cell_type": "code",
   "execution_count": 2,
   "id": "ad3fb1a7",
   "metadata": {},
   "outputs": [],
   "source": [
    "import warnings\n",
    "warnings.filterwarnings ('ignore')"
   ]
  },
  {
   "cell_type": "code",
   "execution_count": 3,
   "id": "a4eadbe6",
   "metadata": {},
   "outputs": [
    {
     "data": {
      "text/html": [
       "<div>\n",
       "<style scoped>\n",
       "    .dataframe tbody tr th:only-of-type {\n",
       "        vertical-align: middle;\n",
       "    }\n",
       "\n",
       "    .dataframe tbody tr th {\n",
       "        vertical-align: top;\n",
       "    }\n",
       "\n",
       "    .dataframe thead th {\n",
       "        text-align: right;\n",
       "    }\n",
       "</style>\n",
       "<table border=\"1\" class=\"dataframe\">\n",
       "  <thead>\n",
       "    <tr style=\"text-align: right;\">\n",
       "      <th></th>\n",
       "      <th>Sales</th>\n",
       "    </tr>\n",
       "    <tr>\n",
       "      <th>Quarter</th>\n",
       "      <th></th>\n",
       "    </tr>\n",
       "  </thead>\n",
       "  <tbody>\n",
       "    <tr>\n",
       "      <th>Q1_86</th>\n",
       "      <td>1734.827000</td>\n",
       "    </tr>\n",
       "    <tr>\n",
       "      <th>Q2_86</th>\n",
       "      <td>2244.960999</td>\n",
       "    </tr>\n",
       "    <tr>\n",
       "      <th>Q3_86</th>\n",
       "      <td>2533.804993</td>\n",
       "    </tr>\n",
       "    <tr>\n",
       "      <th>Q4_86</th>\n",
       "      <td>2154.962997</td>\n",
       "    </tr>\n",
       "    <tr>\n",
       "      <th>Q1_87</th>\n",
       "      <td>1547.818996</td>\n",
       "    </tr>\n",
       "  </tbody>\n",
       "</table>\n",
       "</div>"
      ],
      "text/plain": [
       "               Sales\n",
       "Quarter             \n",
       "Q1_86    1734.827000\n",
       "Q2_86    2244.960999\n",
       "Q3_86    2533.804993\n",
       "Q4_86    2154.962997\n",
       "Q1_87    1547.818996"
      ]
     },
     "execution_count": 3,
     "metadata": {},
     "output_type": "execute_result"
    }
   ],
   "source": [
    "data = pd.read_excel('CocaCola_Sales_Rawdata.xlsx',index_col='Quarter',parse_dates=True)\n",
    "data.index.freq = 'Q'\n",
    "data.head()"
   ]
  },
  {
   "cell_type": "code",
   "execution_count": 4,
   "id": "dfb16c27",
   "metadata": {},
   "outputs": [
    {
     "data": {
      "text/plain": [
       "(42, 1)"
      ]
     },
     "execution_count": 4,
     "metadata": {},
     "output_type": "execute_result"
    }
   ],
   "source": [
    "data.shape"
   ]
  },
  {
   "cell_type": "code",
   "execution_count": 5,
   "id": "44cc2d83",
   "metadata": {},
   "outputs": [
    {
     "name": "stdout",
     "output_type": "stream",
     "text": [
      "<class 'pandas.core.frame.DataFrame'>\n",
      "Index: 42 entries, Q1_86 to Q2_96\n",
      "Data columns (total 1 columns):\n",
      " #   Column  Non-Null Count  Dtype  \n",
      "---  ------  --------------  -----  \n",
      " 0   Sales   42 non-null     float64\n",
      "dtypes: float64(1)\n",
      "memory usage: 672.0+ bytes\n"
     ]
    }
   ],
   "source": [
    "data.info()"
   ]
  },
  {
   "cell_type": "code",
   "execution_count": 6,
   "id": "e29469b9",
   "metadata": {},
   "outputs": [
    {
     "data": {
      "text/html": [
       "<div>\n",
       "<style scoped>\n",
       "    .dataframe tbody tr th:only-of-type {\n",
       "        vertical-align: middle;\n",
       "    }\n",
       "\n",
       "    .dataframe tbody tr th {\n",
       "        vertical-align: top;\n",
       "    }\n",
       "\n",
       "    .dataframe thead th {\n",
       "        text-align: right;\n",
       "    }\n",
       "</style>\n",
       "<table border=\"1\" class=\"dataframe\">\n",
       "  <thead>\n",
       "    <tr style=\"text-align: right;\">\n",
       "      <th></th>\n",
       "      <th>Sales</th>\n",
       "    </tr>\n",
       "  </thead>\n",
       "  <tbody>\n",
       "    <tr>\n",
       "      <th>count</th>\n",
       "      <td>42.000000</td>\n",
       "    </tr>\n",
       "    <tr>\n",
       "      <th>mean</th>\n",
       "      <td>2994.353308</td>\n",
       "    </tr>\n",
       "    <tr>\n",
       "      <th>std</th>\n",
       "      <td>977.930896</td>\n",
       "    </tr>\n",
       "    <tr>\n",
       "      <th>min</th>\n",
       "      <td>1547.818996</td>\n",
       "    </tr>\n",
       "    <tr>\n",
       "      <th>25%</th>\n",
       "      <td>2159.714247</td>\n",
       "    </tr>\n",
       "    <tr>\n",
       "      <th>50%</th>\n",
       "      <td>2782.376999</td>\n",
       "    </tr>\n",
       "    <tr>\n",
       "      <th>75%</th>\n",
       "      <td>3609.250000</td>\n",
       "    </tr>\n",
       "    <tr>\n",
       "      <th>max</th>\n",
       "      <td>5253.000000</td>\n",
       "    </tr>\n",
       "  </tbody>\n",
       "</table>\n",
       "</div>"
      ],
      "text/plain": [
       "             Sales\n",
       "count    42.000000\n",
       "mean   2994.353308\n",
       "std     977.930896\n",
       "min    1547.818996\n",
       "25%    2159.714247\n",
       "50%    2782.376999\n",
       "75%    3609.250000\n",
       "max    5253.000000"
      ]
     },
     "execution_count": 6,
     "metadata": {},
     "output_type": "execute_result"
    }
   ],
   "source": [
    "data.describe()"
   ]
  },
  {
   "cell_type": "code",
   "execution_count": 7,
   "id": "a95d078a",
   "metadata": {},
   "outputs": [
    {
     "data": {
      "image/png": "[encoded data removed]",
      "text/plain": [
       "<Figure size 432x288 with 1 Axes>"
      ]
     },
     "metadata": {
      "needs_background": "light"
     },
     "output_type": "display_data"
    }
   ],
   "source": [
    "data['Sales'].plot()\n",
    "plt.show()"
   ]
  },
  {
   "cell_type": "markdown",
   "id": "87970d7f",
   "metadata": {},
   "source": [
    "### Augmented Dickey Fuller Test for Stationarity"
   ]
  },
  {
   "cell_type": "code",
   "execution_count": 8,
   "id": "56291a03",
   "metadata": {},
   "outputs": [
    {
     "data": {
      "text/plain": [
       "(1.3094210153268104,\n",
       " 0.9966611673930905,\n",
       " 7,\n",
       " 34,\n",
       " {'1%': -3.639224104416853,\n",
       "  '5%': -2.9512301791166293,\n",
       "  '10%': -2.614446989619377},\n",
       " 395.6639212829265)"
      ]
     },
     "execution_count": 8,
     "metadata": {},
     "output_type": "execute_result"
    }
   ],
   "source": [
    "adfuller(data.Sales)"
   ]
  },
  {
   "cell_type": "markdown",
   "id": "fe108f6f",
   "metadata": {},
   "source": [
    "Fail to reject the null hypothesis. <br>\n",
    "The given data is not stationary."
   ]
  },
  {
   "cell_type": "markdown",
   "id": "9076617a",
   "metadata": {},
   "source": [
    "### Triple Exponential Smoothing for non-stationary data"
   ]
  },
  {
   "cell_type": "code",
   "execution_count": 9,
   "id": "9f41387e",
   "metadata": {},
   "outputs": [],
   "source": [
    "data['Mul_Mul'] = ExponentialSmoothing(data['Sales'],trend='mul',seasonal='mul',seasonal_periods=12).fit().fittedvalues\n",
    "data['Add_Mul'] = ExponentialSmoothing(data['Sales'],trend='add',seasonal='mul',seasonal_periods=12).fit().fittedvalues\n",
    "data['Mul_Add'] = ExponentialSmoothing(data['Sales'],trend='mul',seasonal='add',seasonal_periods=12).fit().fittedvalues\n",
    "data['Add_Add'] = ExponentialSmoothing(data['Sales'],trend='add',seasonal='add',seasonal_periods=12).fit().fittedvalues"
   ]
  },
  {
   "cell_type": "code",
   "execution_count": 10,
   "id": "049a47f3",
   "metadata": {},
   "outputs": [
    {
     "data": {
      "text/html": [
       "<div>\n",
       "<style scoped>\n",
       "    .dataframe tbody tr th:only-of-type {\n",
       "        vertical-align: middle;\n",
       "    }\n",
       "\n",
       "    .dataframe tbody tr th {\n",
       "        vertical-align: top;\n",
       "    }\n",
       "\n",
       "    .dataframe thead th {\n",
       "        text-align: right;\n",
       "    }\n",
       "</style>\n",
       "<table border=\"1\" class=\"dataframe\">\n",
       "  <thead>\n",
       "    <tr style=\"text-align: right;\">\n",
       "      <th></th>\n",
       "      <th>Sales</th>\n",
       "      <th>Mul_Mul</th>\n",
       "      <th>Add_Mul</th>\n",
       "      <th>Mul_Add</th>\n",
       "      <th>Add_Add</th>\n",
       "    </tr>\n",
       "    <tr>\n",
       "      <th>Quarter</th>\n",
       "      <th></th>\n",
       "      <th></th>\n",
       "      <th></th>\n",
       "      <th></th>\n",
       "      <th></th>\n",
       "    </tr>\n",
       "  </thead>\n",
       "  <tbody>\n",
       "    <tr>\n",
       "      <th>Q1_86</th>\n",
       "      <td>1734.827000</td>\n",
       "      <td>1894.051461</td>\n",
       "      <td>1802.547462</td>\n",
       "      <td>1739.857196</td>\n",
       "      <td>1740.267964</td>\n",
       "    </tr>\n",
       "    <tr>\n",
       "      <th>Q2_86</th>\n",
       "      <td>2244.960999</td>\n",
       "      <td>2243.246996</td>\n",
       "      <td>2149.416396</td>\n",
       "      <td>2196.058652</td>\n",
       "      <td>2197.306357</td>\n",
       "    </tr>\n",
       "    <tr>\n",
       "      <th>Q3_86</th>\n",
       "      <td>2533.804993</td>\n",
       "      <td>2572.028600</td>\n",
       "      <td>2430.672488</td>\n",
       "      <td>2434.143594</td>\n",
       "      <td>2433.961102</td>\n",
       "    </tr>\n",
       "    <tr>\n",
       "      <th>Q4_86</th>\n",
       "      <td>2154.962997</td>\n",
       "      <td>2211.500360</td>\n",
       "      <td>2189.754709</td>\n",
       "      <td>2337.569917</td>\n",
       "      <td>2268.024343</td>\n",
       "    </tr>\n",
       "    <tr>\n",
       "      <th>Q1_87</th>\n",
       "      <td>1547.818996</td>\n",
       "      <td>1798.797465</td>\n",
       "      <td>1804.575079</td>\n",
       "      <td>1885.527122</td>\n",
       "      <td>1803.826485</td>\n",
       "    </tr>\n",
       "    <tr>\n",
       "      <th>Q2_87</th>\n",
       "      <td>2104.411995</td>\n",
       "      <td>2224.599968</td>\n",
       "      <td>2172.770553</td>\n",
       "      <td>2293.566042</td>\n",
       "      <td>2260.925318</td>\n",
       "    </tr>\n",
       "    <tr>\n",
       "      <th>Q3_87</th>\n",
       "      <td>2014.362999</td>\n",
       "      <td>2071.892679</td>\n",
       "      <td>1990.672570</td>\n",
       "      <td>2095.725603</td>\n",
       "      <td>2074.444095</td>\n",
       "    </tr>\n",
       "    <tr>\n",
       "      <th>Q4_87</th>\n",
       "      <td>1991.746998</td>\n",
       "      <td>1977.296564</td>\n",
       "      <td>1894.004599</td>\n",
       "      <td>2004.383674</td>\n",
       "      <td>1968.917038</td>\n",
       "    </tr>\n",
       "    <tr>\n",
       "      <th>Q1_88</th>\n",
       "      <td>1869.049999</td>\n",
       "      <td>1932.036464</td>\n",
       "      <td>1876.342842</td>\n",
       "      <td>1975.697570</td>\n",
       "      <td>1890.903427</td>\n",
       "    </tr>\n",
       "    <tr>\n",
       "      <th>Q2_88</th>\n",
       "      <td>2313.631996</td>\n",
       "      <td>2373.655280</td>\n",
       "      <td>2325.805582</td>\n",
       "      <td>2474.222205</td>\n",
       "      <td>2365.173533</td>\n",
       "    </tr>\n",
       "    <tr>\n",
       "      <th>Q3_88</th>\n",
       "      <td>2128.320000</td>\n",
       "      <td>2268.386545</td>\n",
       "      <td>2222.197642</td>\n",
       "      <td>2257.095693</td>\n",
       "      <td>2152.443524</td>\n",
       "    </tr>\n",
       "    <tr>\n",
       "      <th>Q4_88</th>\n",
       "      <td>2026.828999</td>\n",
       "      <td>2007.624753</td>\n",
       "      <td>1962.637479</td>\n",
       "      <td>2007.850880</td>\n",
       "      <td>1921.039922</td>\n",
       "    </tr>\n",
       "    <tr>\n",
       "      <th>Q1_89</th>\n",
       "      <td>1910.603996</td>\n",
       "      <td>1701.266887</td>\n",
       "      <td>1694.310143</td>\n",
       "      <td>1907.887059</td>\n",
       "      <td>1711.316430</td>\n",
       "    </tr>\n",
       "    <tr>\n",
       "      <th>Q2_89</th>\n",
       "      <td>2331.164993</td>\n",
       "      <td>2288.979655</td>\n",
       "      <td>2271.419866</td>\n",
       "      <td>2400.178863</td>\n",
       "      <td>2261.415296</td>\n",
       "    </tr>\n",
       "    <tr>\n",
       "      <th>Q3_89</th>\n",
       "      <td>2206.549995</td>\n",
       "      <td>2602.611513</td>\n",
       "      <td>2552.551138</td>\n",
       "      <td>2613.675214</td>\n",
       "      <td>2530.498899</td>\n",
       "    </tr>\n",
       "    <tr>\n",
       "      <th>Q4_89</th>\n",
       "      <td>2173.967995</td>\n",
       "      <td>2082.633507</td>\n",
       "      <td>2044.224711</td>\n",
       "      <td>2129.003787</td>\n",
       "      <td>2067.932981</td>\n",
       "    </tr>\n",
       "    <tr>\n",
       "      <th>Q1_90</th>\n",
       "      <td>2148.278000</td>\n",
       "      <td>1606.480000</td>\n",
       "      <td>1612.580045</td>\n",
       "      <td>1697.915785</td>\n",
       "      <td>1573.324001</td>\n",
       "    </tr>\n",
       "    <tr>\n",
       "      <th>Q2_90</th>\n",
       "      <td>2739.307999</td>\n",
       "      <td>2528.409415</td>\n",
       "      <td>2571.694055</td>\n",
       "      <td>2556.414783</td>\n",
       "      <td>2386.232212</td>\n",
       "    </tr>\n",
       "    <tr>\n",
       "      <th>Q3_90</th>\n",
       "      <td>2792.753998</td>\n",
       "      <td>2547.071168</td>\n",
       "      <td>2586.910321</td>\n",
       "      <td>2599.097016</td>\n",
       "      <td>2466.221634</td>\n",
       "    </tr>\n",
       "    <tr>\n",
       "      <th>Q4_90</th>\n",
       "      <td>2556.009995</td>\n",
       "      <td>2636.389869</td>\n",
       "      <td>2669.480422</td>\n",
       "      <td>2685.384109</td>\n",
       "      <td>2592.778142</td>\n",
       "    </tr>\n",
       "    <tr>\n",
       "      <th>Q1_91</th>\n",
       "      <td>2480.973999</td>\n",
       "      <td>2502.921497</td>\n",
       "      <td>2529.429051</td>\n",
       "      <td>2565.261827</td>\n",
       "      <td>2516.803916</td>\n",
       "    </tr>\n",
       "    <tr>\n",
       "      <th>Q2_91</th>\n",
       "      <td>3039.522995</td>\n",
       "      <td>3153.291605</td>\n",
       "      <td>3188.210666</td>\n",
       "      <td>3058.522504</td>\n",
       "      <td>3017.060315</td>\n",
       "    </tr>\n",
       "    <tr>\n",
       "      <th>Q3_91</th>\n",
       "      <td>3172.115997</td>\n",
       "      <td>2965.244592</td>\n",
       "      <td>2994.416189</td>\n",
       "      <td>2938.933133</td>\n",
       "      <td>2897.838238</td>\n",
       "    </tr>\n",
       "    <tr>\n",
       "      <th>Q4_91</th>\n",
       "      <td>2879.000999</td>\n",
       "      <td>2929.341776</td>\n",
       "      <td>2955.075465</td>\n",
       "      <td>2955.049643</td>\n",
       "      <td>2909.735103</td>\n",
       "    </tr>\n",
       "    <tr>\n",
       "      <th>Q1_92</th>\n",
       "      <td>2772.000000</td>\n",
       "      <td>2660.127989</td>\n",
       "      <td>2677.178568</td>\n",
       "      <td>2820.951925</td>\n",
       "      <td>2770.411850</td>\n",
       "    </tr>\n",
       "    <tr>\n",
       "      <th>Q2_92</th>\n",
       "      <td>3550.000000</td>\n",
       "      <td>3303.161761</td>\n",
       "      <td>3330.048636</td>\n",
       "      <td>3269.072111</td>\n",
       "      <td>3224.964904</td>\n",
       "    </tr>\n",
       "    <tr>\n",
       "      <th>Q3_92</th>\n",
       "      <td>3508.000000</td>\n",
       "      <td>3490.842439</td>\n",
       "      <td>3532.018812</td>\n",
       "      <td>3483.609282</td>\n",
       "      <td>3396.236889</td>\n",
       "    </tr>\n",
       "    <tr>\n",
       "      <th>Q4_92</th>\n",
       "      <td>3243.859993</td>\n",
       "      <td>3424.759960</td>\n",
       "      <td>3433.246200</td>\n",
       "      <td>3468.090808</td>\n",
       "      <td>3422.105906</td>\n",
       "    </tr>\n",
       "    <tr>\n",
       "      <th>Q1_93</th>\n",
       "      <td>3056.000000</td>\n",
       "      <td>3026.955622</td>\n",
       "      <td>2998.343393</td>\n",
       "      <td>3156.082700</td>\n",
       "      <td>3188.774736</td>\n",
       "    </tr>\n",
       "    <tr>\n",
       "      <th>Q2_93</th>\n",
       "      <td>3899.000000</td>\n",
       "      <td>3704.501980</td>\n",
       "      <td>3702.979650</td>\n",
       "      <td>3636.604096</td>\n",
       "      <td>3667.230183</td>\n",
       "    </tr>\n",
       "    <tr>\n",
       "      <th>Q3_93</th>\n",
       "      <td>3629.000000</td>\n",
       "      <td>3735.290584</td>\n",
       "      <td>3733.194777</td>\n",
       "      <td>3742.716237</td>\n",
       "      <td>3724.442766</td>\n",
       "    </tr>\n",
       "    <tr>\n",
       "      <th>Q4_93</th>\n",
       "      <td>3373.000000</td>\n",
       "      <td>3422.310569</td>\n",
       "      <td>3425.367465</td>\n",
       "      <td>3531.728664</td>\n",
       "      <td>3503.383722</td>\n",
       "    </tr>\n",
       "    <tr>\n",
       "      <th>Q1_94</th>\n",
       "      <td>3352.000000</td>\n",
       "      <td>3321.941542</td>\n",
       "      <td>3312.675500</td>\n",
       "      <td>3440.952169</td>\n",
       "      <td>3410.858066</td>\n",
       "    </tr>\n",
       "    <tr>\n",
       "      <th>Q2_94</th>\n",
       "      <td>4342.000000</td>\n",
       "      <td>4156.644507</td>\n",
       "      <td>4155.805255</td>\n",
       "      <td>3986.161481</td>\n",
       "      <td>3952.671620</td>\n",
       "    </tr>\n",
       "    <tr>\n",
       "      <th>Q3_94</th>\n",
       "      <td>4461.000000</td>\n",
       "      <td>4321.016856</td>\n",
       "      <td>4311.604348</td>\n",
       "      <td>4198.118009</td>\n",
       "      <td>4138.934631</td>\n",
       "    </tr>\n",
       "    <tr>\n",
       "      <th>Q4_94</th>\n",
       "      <td>4017.000000</td>\n",
       "      <td>4011.032455</td>\n",
       "      <td>4025.395825</td>\n",
       "      <td>4084.901064</td>\n",
       "      <td>4007.524281</td>\n",
       "    </tr>\n",
       "    <tr>\n",
       "      <th>Q1_95</th>\n",
       "      <td>3854.000000</td>\n",
       "      <td>3819.805476</td>\n",
       "      <td>3818.995453</td>\n",
       "      <td>3993.390068</td>\n",
       "      <td>3932.445985</td>\n",
       "    </tr>\n",
       "    <tr>\n",
       "      <th>Q2_95</th>\n",
       "      <td>4936.000000</td>\n",
       "      <td>4790.340800</td>\n",
       "      <td>4780.688351</td>\n",
       "      <td>4601.504055</td>\n",
       "      <td>4587.981253</td>\n",
       "    </tr>\n",
       "    <tr>\n",
       "      <th>Q3_95</th>\n",
       "      <td>4895.000000</td>\n",
       "      <td>4787.340961</td>\n",
       "      <td>4802.886754</td>\n",
       "      <td>4727.312761</td>\n",
       "      <td>4663.726195</td>\n",
       "    </tr>\n",
       "    <tr>\n",
       "      <th>Q4_95</th>\n",
       "      <td>4333.000000</td>\n",
       "      <td>4577.844334</td>\n",
       "      <td>4596.196569</td>\n",
       "      <td>4670.569461</td>\n",
       "      <td>4583.472065</td>\n",
       "    </tr>\n",
       "    <tr>\n",
       "      <th>Q1_96</th>\n",
       "      <td>4194.000000</td>\n",
       "      <td>4215.619263</td>\n",
       "      <td>4181.625147</td>\n",
       "      <td>4399.473107</td>\n",
       "      <td>4384.625116</td>\n",
       "    </tr>\n",
       "    <tr>\n",
       "      <th>Q2_96</th>\n",
       "      <td>5253.000000</td>\n",
       "      <td>5275.704016</td>\n",
       "      <td>5220.885783</td>\n",
       "      <td>5052.557578</td>\n",
       "      <td>5097.349366</td>\n",
       "    </tr>\n",
       "  </tbody>\n",
       "</table>\n",
       "</div>"
      ],
      "text/plain": [
       "               Sales      Mul_Mul      Add_Mul      Mul_Add      Add_Add\n",
       "Quarter                                                                 \n",
       "Q1_86    1734.827000  1894.051461  1802.547462  1739.857196  1740.267964\n",
       "Q2_86    2244.960999  2243.246996  2149.416396  2196.058652  2197.306357\n",
       "Q3_86    2533.804993  2572.028600  2430.672488  2434.143594  2433.961102\n",
       "Q4_86    2154.962997  2211.500360  2189.754709  2337.569917  2268.024343\n",
       "Q1_87    1547.818996  1798.797465  1804.575079  1885.527122  1803.826485\n",
       "Q2_87    2104.411995  2224.599968  2172.770553  2293.566042  2260.925318\n",
       "Q3_87    2014.362999  2071.892679  1990.672570  2095.725603  2074.444095\n",
       "Q4_87    1991.746998  1977.296564  1894.004599  2004.383674  1968.917038\n",
       "Q1_88    1869.049999  1932.036464  1876.342842  1975.697570  1890.903427\n",
       "Q2_88    2313.631996  2373.655280  2325.805582  2474.222205  2365.173533\n",
       "Q3_88    2128.320000  2268.386545  2222.197642  2257.095693  2152.443524\n",
       "Q4_88    2026.828999  2007.624753  1962.637479  2007.850880  1921.039922\n",
       "Q1_89    1910.603996  1701.266887  1694.310143  1907.887059  1711.316430\n",
       "Q2_89    2331.164993  2288.979655  2271.419866  2400.178863  2261.415296\n",
       "Q3_89    2206.549995  2602.611513  2552.551138  2613.675214  2530.498899\n",
       "Q4_89    2173.967995  2082.633507  2044.224711  2129.003787  2067.932981\n",
       "Q1_90    2148.278000  1606.480000  1612.580045  1697.915785  1573.324001\n",
       "Q2_90    2739.307999  2528.409415  2571.694055  2556.414783  2386.232212\n",
       "Q3_90    2792.753998  2547.071168  2586.910321  2599.097016  2466.221634\n",
       "Q4_90    2556.009995  2636.389869  2669.480422  2685.384109  2592.778142\n",
       "Q1_91    2480.973999  2502.921497  2529.429051  2565.261827  2516.803916\n",
       "Q2_91    3039.522995  3153.291605  3188.210666  3058.522504  3017.060315\n",
       "Q3_91    3172.115997  2965.244592  2994.416189  2938.933133  2897.838238\n",
       "Q4_91    2879.000999  2929.341776  2955.075465  2955.049643  2909.735103\n",
       "Q1_92    2772.000000  2660.127989  2677.178568  2820.951925  2770.411850\n",
       "Q2_92    3550.000000  3303.161761  3330.048636  3269.072111  3224.964904\n",
       "Q3_92    3508.000000  3490.842439  3532.018812  3483.609282  3396.236889\n",
       "Q4_92    3243.859993  3424.759960  3433.246200  3468.090808  3422.105906\n",
       "Q1_93    3056.000000  3026.955622  2998.343393  3156.082700  3188.774736\n",
       "Q2_93    3899.000000  3704.501980  3702.979650  3636.604096  3667.230183\n",
       "Q3_93    3629.000000  3735.290584  3733.194777  3742.716237  3724.442766\n",
       "Q4_93    3373.000000  3422.310569  3425.367465  3531.728664  3503.383722\n",
       "Q1_94    3352.000000  3321.941542  3312.675500  3440.952169  3410.858066\n",
       "Q2_94    4342.000000  4156.644507  4155.805255  3986.161481  3952.671620\n",
       "Q3_94    4461.000000  4321.016856  4311.604348  4198.118009  4138.934631\n",
       "Q4_94    4017.000000  4011.032455  4025.395825  4084.901064  4007.524281\n",
       "Q1_95    3854.000000  3819.805476  3818.995453  3993.390068  3932.445985\n",
       "Q2_95    4936.000000  4790.340800  4780.688351  4601.504055  4587.981253\n",
       "Q3_95    4895.000000  4787.340961  4802.886754  4727.312761  4663.726195\n",
       "Q4_95    4333.000000  4577.844334  4596.196569  4670.569461  4583.472065\n",
       "Q1_96    4194.000000  4215.619263  4181.625147  4399.473107  4384.625116\n",
       "Q2_96    5253.000000  5275.704016  5220.885783  5052.557578  5097.349366"
      ]
     },
     "execution_count": 10,
     "metadata": {},
     "output_type": "execute_result"
    }
   ],
   "source": [
    "data"
   ]
  },
  {
   "cell_type": "code",
   "execution_count": 11,
   "id": "f47dad52",
   "metadata": {},
   "outputs": [],
   "source": [
    "mse_1 = mean_squared_error(data['Sales'],data['Mul_Mul'])\n",
    "\n",
    "mse_2 = mean_squared_error(data['Sales'],data['Add_Mul'])\n",
    "\n",
    "mse_3 = mean_squared_error(data['Sales'],data['Mul_Add'])\n",
    "\n",
    "mse_4 = mean_squared_error(data['Sales'],data['Add_Add'])"
   ]
  },
  {
   "cell_type": "code",
   "execution_count": 12,
   "id": "0d3e9a91",
   "metadata": {},
   "outputs": [
    {
     "name": "stdout",
     "output_type": "stream",
     "text": [
      "26704.684078674396\n",
      "25011.882129106925\n",
      "38102.64877995233\n",
      "41579.7574412387\n"
     ]
    }
   ],
   "source": [
    "print(mse_1)\n",
    "print(mse_2)\n",
    "print(mse_3)\n",
    "print(mse_4)"
   ]
  },
  {
   "cell_type": "markdown",
   "id": "0df712a1",
   "metadata": {},
   "source": [
    "Triple exponential smoothing model with additive trend and multiplicative seasonality shows the best result."
   ]
  },
  {
   "cell_type": "code",
   "execution_count": 13,
   "id": "32fd76c5",
   "metadata": {},
   "outputs": [
    {
     "name": "stdout",
     "output_type": "stream",
     "text": [
      "RMSE =  158.0 2\n"
     ]
    }
   ],
   "source": [
    "print('RMSE = ',np.round(np.sqrt(mse_2)),2)"
   ]
  },
  {
   "cell_type": "code",
   "execution_count": 14,
   "id": "f369f281",
   "metadata": {},
   "outputs": [
    {
     "data": {
      "image/png": "[encoded data removed]",
      "text/plain": [
       "<Figure size 864x432 with 1 Axes>"
      ]
     },
     "metadata": {
      "needs_background": "light"
     },
     "output_type": "display_data"
    }
   ],
   "source": [
    "data[['Sales','Add_Mul']].plot(figsize=(12,6)).autoscale(axis='x',tight=True)"
   ]
  },
  {
   "cell_type": "code",
   "execution_count": 15,
   "id": "9e17b06b",
   "metadata": {},
   "outputs": [
    {
     "data": {
      "image/png": "[encoded data removed]",
      "text/plain": [
       "<Figure size 720x360 with 1 Axes>"
      ]
     },
     "metadata": {
      "needs_background": "light"
     },
     "output_type": "display_data"
    }
   ],
   "source": [
    "data[['Sales','Add_Mul']].iloc[:24].plot(figsize=(10,5)).autoscale(axis='x',tight=True)"
   ]
  },
  {
   "cell_type": "code",
   "execution_count": 16,
   "id": "a87e3940",
   "metadata": {},
   "outputs": [],
   "source": [
    "del data['Mul_Mul']\n",
    "del data['Mul_Add']\n",
    "del data['Add_Add']\n",
    "del data['Add_Mul']"
   ]
  },
  {
   "cell_type": "code",
   "execution_count": 17,
   "id": "7801c284",
   "metadata": {},
   "outputs": [
    {
     "name": "stdout",
     "output_type": "stream",
     "text": [
      "<class 'pandas.core.frame.DataFrame'>\n",
      "Index: 42 entries, Q1_86 to Q2_96\n",
      "Data columns (total 1 columns):\n",
      " #   Column  Non-Null Count  Dtype  \n",
      "---  ------  --------------  -----  \n",
      " 0   Sales   42 non-null     float64\n",
      "dtypes: float64(1)\n",
      "memory usage: 1.7+ KB\n"
     ]
    }
   ],
   "source": [
    "data.info()"
   ]
  },
  {
   "cell_type": "code",
   "execution_count": 18,
   "id": "50bda1a1",
   "metadata": {},
   "outputs": [],
   "source": [
    "train_data = data.iloc[:34]\n",
    "test_data = data.iloc[34:]"
   ]
  },
  {
   "cell_type": "code",
   "execution_count": 19,
   "id": "290b7622",
   "metadata": {},
   "outputs": [
    {
     "data": {
      "text/html": [
       "<div>\n",
       "<style scoped>\n",
       "    .dataframe tbody tr th:only-of-type {\n",
       "        vertical-align: middle;\n",
       "    }\n",
       "\n",
       "    .dataframe tbody tr th {\n",
       "        vertical-align: top;\n",
       "    }\n",
       "\n",
       "    .dataframe thead th {\n",
       "        text-align: right;\n",
       "    }\n",
       "</style>\n",
       "<table border=\"1\" class=\"dataframe\">\n",
       "  <thead>\n",
       "    <tr style=\"text-align: right;\">\n",
       "      <th></th>\n",
       "      <th>Sales</th>\n",
       "    </tr>\n",
       "    <tr>\n",
       "      <th>Quarter</th>\n",
       "      <th></th>\n",
       "    </tr>\n",
       "  </thead>\n",
       "  <tbody>\n",
       "    <tr>\n",
       "      <th>Q1_86</th>\n",
       "      <td>1734.827000</td>\n",
       "    </tr>\n",
       "    <tr>\n",
       "      <th>Q2_86</th>\n",
       "      <td>2244.960999</td>\n",
       "    </tr>\n",
       "    <tr>\n",
       "      <th>Q3_86</th>\n",
       "      <td>2533.804993</td>\n",
       "    </tr>\n",
       "    <tr>\n",
       "      <th>Q4_86</th>\n",
       "      <td>2154.962997</td>\n",
       "    </tr>\n",
       "    <tr>\n",
       "      <th>Q1_87</th>\n",
       "      <td>1547.818996</td>\n",
       "    </tr>\n",
       "    <tr>\n",
       "      <th>Q2_87</th>\n",
       "      <td>2104.411995</td>\n",
       "    </tr>\n",
       "    <tr>\n",
       "      <th>Q3_87</th>\n",
       "      <td>2014.362999</td>\n",
       "    </tr>\n",
       "    <tr>\n",
       "      <th>Q4_87</th>\n",
       "      <td>1991.746998</td>\n",
       "    </tr>\n",
       "    <tr>\n",
       "      <th>Q1_88</th>\n",
       "      <td>1869.049999</td>\n",
       "    </tr>\n",
       "    <tr>\n",
       "      <th>Q2_88</th>\n",
       "      <td>2313.631996</td>\n",
       "    </tr>\n",
       "    <tr>\n",
       "      <th>Q3_88</th>\n",
       "      <td>2128.320000</td>\n",
       "    </tr>\n",
       "    <tr>\n",
       "      <th>Q4_88</th>\n",
       "      <td>2026.828999</td>\n",
       "    </tr>\n",
       "    <tr>\n",
       "      <th>Q1_89</th>\n",
       "      <td>1910.603996</td>\n",
       "    </tr>\n",
       "    <tr>\n",
       "      <th>Q2_89</th>\n",
       "      <td>2331.164993</td>\n",
       "    </tr>\n",
       "    <tr>\n",
       "      <th>Q3_89</th>\n",
       "      <td>2206.549995</td>\n",
       "    </tr>\n",
       "    <tr>\n",
       "      <th>Q4_89</th>\n",
       "      <td>2173.967995</td>\n",
       "    </tr>\n",
       "    <tr>\n",
       "      <th>Q1_90</th>\n",
       "      <td>2148.278000</td>\n",
       "    </tr>\n",
       "    <tr>\n",
       "      <th>Q2_90</th>\n",
       "      <td>2739.307999</td>\n",
       "    </tr>\n",
       "    <tr>\n",
       "      <th>Q3_90</th>\n",
       "      <td>2792.753998</td>\n",
       "    </tr>\n",
       "    <tr>\n",
       "      <th>Q4_90</th>\n",
       "      <td>2556.009995</td>\n",
       "    </tr>\n",
       "    <tr>\n",
       "      <th>Q1_91</th>\n",
       "      <td>2480.973999</td>\n",
       "    </tr>\n",
       "    <tr>\n",
       "      <th>Q2_91</th>\n",
       "      <td>3039.522995</td>\n",
       "    </tr>\n",
       "    <tr>\n",
       "      <th>Q3_91</th>\n",
       "      <td>3172.115997</td>\n",
       "    </tr>\n",
       "    <tr>\n",
       "      <th>Q4_91</th>\n",
       "      <td>2879.000999</td>\n",
       "    </tr>\n",
       "    <tr>\n",
       "      <th>Q1_92</th>\n",
       "      <td>2772.000000</td>\n",
       "    </tr>\n",
       "    <tr>\n",
       "      <th>Q2_92</th>\n",
       "      <td>3550.000000</td>\n",
       "    </tr>\n",
       "    <tr>\n",
       "      <th>Q3_92</th>\n",
       "      <td>3508.000000</td>\n",
       "    </tr>\n",
       "    <tr>\n",
       "      <th>Q4_92</th>\n",
       "      <td>3243.859993</td>\n",
       "    </tr>\n",
       "    <tr>\n",
       "      <th>Q1_93</th>\n",
       "      <td>3056.000000</td>\n",
       "    </tr>\n",
       "    <tr>\n",
       "      <th>Q2_93</th>\n",
       "      <td>3899.000000</td>\n",
       "    </tr>\n",
       "    <tr>\n",
       "      <th>Q3_93</th>\n",
       "      <td>3629.000000</td>\n",
       "    </tr>\n",
       "    <tr>\n",
       "      <th>Q4_93</th>\n",
       "      <td>3373.000000</td>\n",
       "    </tr>\n",
       "    <tr>\n",
       "      <th>Q1_94</th>\n",
       "      <td>3352.000000</td>\n",
       "    </tr>\n",
       "    <tr>\n",
       "      <th>Q2_94</th>\n",
       "      <td>4342.000000</td>\n",
       "    </tr>\n",
       "  </tbody>\n",
       "</table>\n",
       "</div>"
      ],
      "text/plain": [
       "               Sales\n",
       "Quarter             \n",
       "Q1_86    1734.827000\n",
       "Q2_86    2244.960999\n",
       "Q3_86    2533.804993\n",
       "Q4_86    2154.962997\n",
       "Q1_87    1547.818996\n",
       "Q2_87    2104.411995\n",
       "Q3_87    2014.362999\n",
       "Q4_87    1991.746998\n",
       "Q1_88    1869.049999\n",
       "Q2_88    2313.631996\n",
       "Q3_88    2128.320000\n",
       "Q4_88    2026.828999\n",
       "Q1_89    1910.603996\n",
       "Q2_89    2331.164993\n",
       "Q3_89    2206.549995\n",
       "Q4_89    2173.967995\n",
       "Q1_90    2148.278000\n",
       "Q2_90    2739.307999\n",
       "Q3_90    2792.753998\n",
       "Q4_90    2556.009995\n",
       "Q1_91    2480.973999\n",
       "Q2_91    3039.522995\n",
       "Q3_91    3172.115997\n",
       "Q4_91    2879.000999\n",
       "Q1_92    2772.000000\n",
       "Q2_92    3550.000000\n",
       "Q3_92    3508.000000\n",
       "Q4_92    3243.859993\n",
       "Q1_93    3056.000000\n",
       "Q2_93    3899.000000\n",
       "Q3_93    3629.000000\n",
       "Q4_93    3373.000000\n",
       "Q1_94    3352.000000\n",
       "Q2_94    4342.000000"
      ]
     },
     "execution_count": 19,
     "metadata": {},
     "output_type": "execute_result"
    }
   ],
   "source": [
    "train_data"
   ]
  },
  {
   "cell_type": "code",
   "execution_count": 24,
   "id": "6f7a5f18",
   "metadata": {},
   "outputs": [],
   "source": [
    "TES = ExponentialSmoothing(train_data['Sales'],trend='add',seasonal='mul',seasonal_periods=4)\n",
    "TES_fitted = TES.fit()"
   ]
  },
  {
   "cell_type": "code",
   "execution_count": 25,
   "id": "0005da08",
   "metadata": {},
   "outputs": [
    {
     "data": {
      "text/plain": [
       "34    4215.121510\n",
       "35    3869.493970\n",
       "36    3620.133255\n",
       "37    4579.126709\n",
       "38    4466.455905\n",
       "39    4096.830840\n",
       "40    3829.741246\n",
       "41    4840.477923\n",
       "dtype: float64"
      ]
     },
     "execution_count": 25,
     "metadata": {},
     "output_type": "execute_result"
    }
   ],
   "source": [
    "test_pred = TES_fitted.forecast(8)\n",
    "test_pred"
   ]
  },
  {
   "cell_type": "code",
   "execution_count": 32,
   "id": "b0973e60",
   "metadata": {},
   "outputs": [
    {
     "data": {
      "image/png": "[encoded data removed]",
      "text/plain": [
       "<Figure size 720x432 with 1 Axes>"
      ]
     },
     "metadata": {
      "needs_background": "light"
     },
     "output_type": "display_data"
    }
   ],
   "source": [
    "data['Sales'].plot(legend=True,label='Data')\n",
    "test_pred.plot(legend=True,label='PREDICTION',figsize=(10,6))\n",
    "plt.show();"
   ]
  },
  {
   "cell_type": "markdown",
   "id": "275886de",
   "metadata": {},
   "source": [
    "## ACF plot"
   ]
  },
  {
   "cell_type": "code",
   "execution_count": 33,
   "id": "a8930edd",
   "metadata": {},
   "outputs": [
    {
     "data": {
      "image/png": "[encoded data removed]",
      "text/plain": [
       "<Figure size 432x288 with 1 Axes>"
      ]
     },
     "metadata": {
      "needs_background": "light"
     },
     "output_type": "display_data"
    }
   ],
   "source": [
    "sgt.plot_acf(data['Sales'],lags=40,zero=False)\n",
    "plt.title('ACF',size=25)\n",
    "plt.show()"
   ]
  },
  {
   "cell_type": "markdown",
   "id": "8f2b87a3",
   "metadata": {},
   "source": [
    "## PACF Plot"
   ]
  },
  {
   "cell_type": "code",
   "execution_count": 35,
   "id": "7136bfb1",
   "metadata": {},
   "outputs": [
    {
     "data": {
      "image/png": "[encoded data removed]",
      "text/plain": [
       "<Figure size 432x288 with 1 Axes>"
      ]
     },
     "metadata": {
      "needs_background": "light"
     },
     "output_type": "display_data"
    }
   ],
   "source": [
    "sgt.plot_pacf(data['Sales'],lags=20,zero=False)\n",
    "plt.title('PACF',size=25)\n",
    "plt.show()"
   ]
  },
  {
   "cell_type": "markdown",
   "id": "4f132638",
   "metadata": {},
   "source": [
    "## LLR Test"
   ]
  },
  {
   "cell_type": "code",
   "execution_count": 36,
   "id": "22fa8073",
   "metadata": {},
   "outputs": [],
   "source": [
    "def LLR_test(mod_1, mod_2, DF=1):\n",
    "    L1 = mod_1.fit().llf\n",
    "    L2 = mod_2.fit().llf\n",
    "    LR = (2*(L2-L1))\n",
    "    p = chi2.sf(LR, DF).round(3)\n",
    "    return p"
   ]
  },
  {
   "cell_type": "markdown",
   "id": "a98713ac",
   "metadata": {},
   "source": [
    "### AR model"
   ]
  },
  {
   "cell_type": "code",
   "execution_count": 37,
   "id": "4d73c6c3",
   "metadata": {},
   "outputs": [
    {
     "data": {
      "text/html": [
       "<table class=\"simpletable\">\n",
       "<caption>ARMA Model Results</caption>\n",
       "<tr>\n",
       "  <th>Dep. Variable:</th>       <td>Sales</td>      <th>  No. Observations:  </th>    <td>42</td>   \n",
       "</tr>\n",
       "<tr>\n",
       "  <th>Model:</th>            <td>ARMA(1, 0)</td>    <th>  Log Likelihood     </th> <td>-315.765</td>\n",
       "</tr>\n",
       "<tr>\n",
       "  <th>Method:</th>             <td>css-mle</td>     <th>  S.D. of innovations</th>  <td>434.561</td>\n",
       "</tr>\n",
       "<tr>\n",
       "  <th>Date:</th>          <td>Tue, 16 Aug 2022</td> <th>  AIC                </th>  <td>637.530</td>\n",
       "</tr>\n",
       "<tr>\n",
       "  <th>Time:</th>              <td>23:08:33</td>     <th>  BIC                </th>  <td>642.743</td>\n",
       "</tr>\n",
       "<tr>\n",
       "  <th>Sample:</th>                <td>0</td>        <th>  HQIC               </th>  <td>639.441</td>\n",
       "</tr>\n",
       "<tr>\n",
       "  <th></th>                       <td> </td>        <th>                     </th>     <td> </td>   \n",
       "</tr>\n",
       "</table>\n",
       "<table class=\"simpletable\">\n",
       "<tr>\n",
       "       <td></td>          <th>coef</th>     <th>std err</th>      <th>z</th>      <th>P>|z|</th>  <th>[0.025</th>    <th>0.975]</th>  \n",
       "</tr>\n",
       "<tr>\n",
       "  <th>const</th>       <td> 3200.1146</td> <td>  817.353</td> <td>    3.915</td> <td> 0.000</td> <td> 1598.132</td> <td> 4802.097</td>\n",
       "</tr>\n",
       "<tr>\n",
       "  <th>ar.L1.Sales</th> <td>    0.9365</td> <td>    0.058</td> <td>   16.173</td> <td> 0.000</td> <td>    0.823</td> <td>    1.050</td>\n",
       "</tr>\n",
       "</table>\n",
       "<table class=\"simpletable\">\n",
       "<caption>Roots</caption>\n",
       "<tr>\n",
       "    <td></td>   <th>            Real</th>  <th>         Imaginary</th> <th>         Modulus</th>  <th>        Frequency</th>\n",
       "</tr>\n",
       "<tr>\n",
       "  <th>AR.1</th> <td>           1.0679</td> <td>          +0.0000j</td> <td>           1.0679</td> <td>           0.0000</td>\n",
       "</tr>\n",
       "</table>"
      ],
      "text/plain": [
       "<class 'statsmodels.iolib.summary.Summary'>\n",
       "\"\"\"\n",
       "                              ARMA Model Results                              \n",
       "==============================================================================\n",
       "Dep. Variable:                  Sales   No. Observations:                   42\n",
       "Model:                     ARMA(1, 0)   Log Likelihood                -315.765\n",
       "Method:                       css-mle   S.D. of innovations            434.561\n",
       "Date:                Tue, 16 Aug 2022   AIC                            637.530\n",
       "Time:                        23:08:33   BIC                            642.743\n",
       "Sample:                             0   HQIC                           639.441\n",
       "                                                                              \n",
       "===============================================================================\n",
       "                  coef    std err          z      P>|z|      [0.025      0.975]\n",
       "-------------------------------------------------------------------------------\n",
       "const        3200.1146    817.353      3.915      0.000    1598.132    4802.097\n",
       "ar.L1.Sales     0.9365      0.058     16.173      0.000       0.823       1.050\n",
       "                                    Roots                                    \n",
       "=============================================================================\n",
       "                  Real          Imaginary           Modulus         Frequency\n",
       "-----------------------------------------------------------------------------\n",
       "AR.1            1.0679           +0.0000j            1.0679            0.0000\n",
       "-----------------------------------------------------------------------------\n",
       "\"\"\""
      ]
     },
     "execution_count": 37,
     "metadata": {},
     "output_type": "execute_result"
    }
   ],
   "source": [
    "ar_1 = ARMA(data.Sales,order=(1,0))\n",
    "ar_1_fit = ar_1.fit()\n",
    "ar_1_fit.summary()"
   ]
  },
  {
   "cell_type": "code",
   "execution_count": 38,
   "id": "0b4e94e3",
   "metadata": {},
   "outputs": [],
   "source": [
    "ar_2 = ARMA(data.Sales,order= (2,0))\n",
    "ar_2_fit = ar_2.fit()"
   ]
  },
  {
   "cell_type": "code",
   "execution_count": 39,
   "id": "0a79ed0e",
   "metadata": {},
   "outputs": [
    {
     "data": {
      "text/plain": [
       "0.579"
      ]
     },
     "execution_count": 39,
     "metadata": {},
     "output_type": "execute_result"
    }
   ],
   "source": [
    "LLR_test(ar_1,ar_2)"
   ]
  },
  {
   "cell_type": "code",
   "execution_count": 40,
   "id": "d6e187f5",
   "metadata": {},
   "outputs": [],
   "source": [
    "ar_3 = ARMA(data.Sales,order=(3,0))\n",
    "ar_3_fit = ar_3.fit()"
   ]
  },
  {
   "cell_type": "code",
   "execution_count": 41,
   "id": "0938162c",
   "metadata": {},
   "outputs": [
    {
     "data": {
      "text/plain": [
       "0.0"
      ]
     },
     "execution_count": 41,
     "metadata": {},
     "output_type": "execute_result"
    }
   ],
   "source": [
    "LLR_test(ar_2,ar_3)"
   ]
  },
  {
   "cell_type": "markdown",
   "id": "351b9fb5",
   "metadata": {},
   "source": [
    "Reject null hypothesis."
   ]
  },
  {
   "cell_type": "code",
   "execution_count": 42,
   "id": "e4e7a331",
   "metadata": {},
   "outputs": [],
   "source": [
    "ar_4 = ARMA(data.Sales,order=(4,0))\n",
    "ar_4_fit = ar_4.fit()"
   ]
  },
  {
   "cell_type": "code",
   "execution_count": 43,
   "id": "16f9175a",
   "metadata": {},
   "outputs": [
    {
     "data": {
      "text/plain": [
       "0.002"
      ]
     },
     "execution_count": 43,
     "metadata": {},
     "output_type": "execute_result"
    }
   ],
   "source": [
    "LLR_test(ar_3,ar_4)"
   ]
  },
  {
   "cell_type": "markdown",
   "id": "b89f9c05",
   "metadata": {},
   "source": [
    "Reject null hypothesis."
   ]
  },
  {
   "cell_type": "code",
   "execution_count": 44,
   "id": "969bbfcc",
   "metadata": {},
   "outputs": [],
   "source": [
    "ar_5 = ARMA(data.Sales,order=(5,0))\n",
    "ar_5_fit = ar_5.fit()"
   ]
  },
  {
   "cell_type": "code",
   "execution_count": 45,
   "id": "20080583",
   "metadata": {},
   "outputs": [
    {
     "data": {
      "text/plain": [
       "0.0"
      ]
     },
     "execution_count": 45,
     "metadata": {},
     "output_type": "execute_result"
    }
   ],
   "source": [
    "LLR_test(ar_4,ar_5)"
   ]
  },
  {
   "cell_type": "markdown",
   "id": "57d29a91",
   "metadata": {},
   "source": [
    "Reject null hypothesis."
   ]
  },
  {
   "cell_type": "code",
   "execution_count": 47,
   "id": "b2e8f723",
   "metadata": {},
   "outputs": [],
   "source": [
    "ar_6 = ARMA(data.Sales,order=(6,0))\n",
    "ar_6_fit = ar_6.fit()"
   ]
  },
  {
   "cell_type": "code",
   "execution_count": 49,
   "id": "51a93d96",
   "metadata": {},
   "outputs": [
    {
     "data": {
      "text/plain": [
       "1.0"
      ]
     },
     "execution_count": 49,
     "metadata": {},
     "output_type": "execute_result"
    }
   ],
   "source": [
    "LLR_test(ar_5,ar_6)"
   ]
  },
  {
   "cell_type": "markdown",
   "id": "e88703bc",
   "metadata": {},
   "source": [
    "The p-value is greater than 0.05.<br>\n",
    "Therefore we fail to reject the null hypothesis.<br>\n",
    "ar_5 is a better model compared to ar_6."
   ]
  },
  {
   "cell_type": "code",
   "execution_count": 59,
   "id": "c0922004",
   "metadata": {},
   "outputs": [],
   "source": [
    "model_ar5 = ARMA(train_data.Sales,order=(4,0))\n",
    "ar_5_fit = model_ar5.fit()"
   ]
  },
  {
   "cell_type": "code",
   "execution_count": 60,
   "id": "1df2f761",
   "metadata": {},
   "outputs": [
    {
     "data": {
      "text/plain": [
       "34    3877.513602\n",
       "35    3408.553189\n",
       "36    3461.204857\n",
       "37    4036.297696\n",
       "38    3895.775558\n",
       "39    3499.362868\n",
       "40    3501.838111\n",
       "41    3866.008067\n",
       "42    3852.305774\n",
       "dtype: float64"
      ]
     },
     "execution_count": 60,
     "metadata": {},
     "output_type": "execute_result"
    }
   ],
   "source": [
    "ar5_test_pred = ar_5_fit.predict(34,42)\n",
    "ar5_test_pred"
   ]
  },
  {
   "cell_type": "code",
   "execution_count": null,
   "id": "f55219a0",
   "metadata": {},
   "outputs": [],
   "source": []
  }
 ],
 "metadata": {
  "kernelspec": {
   "display_name": "Python 3 (ipykernel)",
   "language": "python",
   "name": "python3"
  },
  "language_info": {
   "codemirror_mode": {
    "name": "ipython",
    "version": 3
   },
   "file_extension": ".py",
   "mimetype": "text/x-python",
   "name": "python",
   "nbconvert_exporter": "python",
   "pygments_lexer": "ipython3",
   "version": "3.9.7"
  }
 },
 "nbformat": 4,
 "nbformat_minor": 5
}
